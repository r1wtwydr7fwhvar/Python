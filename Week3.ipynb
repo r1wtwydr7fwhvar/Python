{
 "cells": [
  {
   "cell_type": "code",
   "execution_count": 2,
   "id": "44f12ec6-0d38-4c03-90e0-c3e5628ce953",
   "metadata": {},
   "outputs": [],
   "source": [
    "# Threading\n",
    "# Concurrency using multiple threads in the same process.\n",
    "# Best for I/O-bound tasks (e.g., downloading files, waiting for APIs)."
   ]
  },
  {
   "cell_type": "code",
   "execution_count": 5,
   "id": "5f2aa97c-8c7e-41f3-a069-2b12fb79f62b",
   "metadata": {},
   "outputs": [
    {
     "name": "stdout",
     "output_type": "stream",
     "text": [
      "Thread-1 started\n",
      "Thread-2 started\n",
      "Thread-1 finished\n",
      "Thread-2 finished\n",
      "Both threads are done\n"
     ]
    }
   ],
   "source": [
    "import threading\n",
    "import time\n",
    "\n",
    "def task(name):\n",
    "    print(f\"{name} started\")\n",
    "    time.sleep(2)\n",
    "    print(f\"{name} finished\")\n",
    "\n",
    "\n",
    "t1 = threading.Thread(target=task, args=(\"Thread-1\",))\n",
    "t2 = threading.Thread(target=task, args=(\"Thread-2\",))\n",
    "\n",
    "t1.start()\n",
    "t2.start()\n",
    "\n",
    "t1.join()\n",
    "t2.join()\n",
    "\n",
    "print(\"Both threads are done\")\n"
   ]
  },
  {
   "cell_type": "code",
   "execution_count": null,
   "id": "ff6cd8ea-2956-409c-8b2a-634171d610dc",
   "metadata": {},
   "outputs": [],
   "source": [
    "# Multiprocessing\n",
    "# Parallelism using multiple processes (different memory spaces).\n",
    "# Best for CPU-bound tasks (e.g., heavy calculations)."
   ]
  },
  {
   "cell_type": "code",
   "execution_count": 7,
   "id": "d6de56e7-9f97-4496-be44-2518a52c4861",
   "metadata": {},
   "outputs": [
    {
     "name": "stdout",
     "output_type": "stream",
     "text": [
      "Both processes are done\n"
     ]
    }
   ],
   "source": [
    "import multiprocessing\n",
    "import time\n",
    "\n",
    "def task(name):\n",
    "    print(f\"{name} started\")\n",
    "    time.sleep(2)\n",
    "    print(f\"{name} finished\")\n",
    "\n",
    "if __name__ == \"__main__\":\n",
    "    p1 = multiprocessing.Process(target=task, args=(\"Process-1\",))\n",
    "    p2 = multiprocessing.Process(target=task, args=(\"Process-2\",))\n",
    "\n",
    "    p1.start()\n",
    "    p2.start()\n",
    "\n",
    "    p1.join()\n",
    "    p2.join()\n",
    "\n",
    "    print(\"Both processes are done\")\n"
   ]
  },
  {
   "cell_type": "code",
   "execution_count": 8,
   "id": "0648a439-d258-4b61-8d7c-632d0d6ac985",
   "metadata": {},
   "outputs": [],
   "source": [
    "#Async IO (asyncio, aiohttp)\n",
    "#Single-threaded concurrency using await.\n",
    "#Best for I/O-bound tasks with many simultaneous actions (e.g., calling 100 APIs)."
   ]
  },
  {
   "cell_type": "code",
   "execution_count": 9,
   "id": "4f59e1c8-b823-4a8d-8bb6-449d4c7d88d8",
   "metadata": {},
   "outputs": [
    {
     "ename": "RuntimeError",
     "evalue": "asyncio.run() cannot be called from a running event loop",
     "output_type": "error",
     "traceback": [
      "\u001b[1;31m---------------------------------------------------------------------------\u001b[0m",
      "\u001b[1;31mRuntimeError\u001b[0m                              Traceback (most recent call last)",
      "Cell \u001b[1;32mIn[9], line 15\u001b[0m\n\u001b[0;32m     12\u001b[0m         results \u001b[38;5;241m=\u001b[39m \u001b[38;5;28;01mawait\u001b[39;00m asyncio\u001b[38;5;241m.\u001b[39mgather(\u001b[38;5;241m*\u001b[39mtasks)\n\u001b[0;32m     13\u001b[0m         \u001b[38;5;28mprint\u001b[39m(\u001b[38;5;124m\"\u001b[39m\u001b[38;5;124mFetched all URLs\u001b[39m\u001b[38;5;124m\"\u001b[39m)\n\u001b[1;32m---> 15\u001b[0m asyncio\u001b[38;5;241m.\u001b[39mrun(main())\n",
      "File \u001b[1;32m~\\anaconda3\\Lib\\asyncio\\runners.py:186\u001b[0m, in \u001b[0;36mrun\u001b[1;34m(main, debug)\u001b[0m\n\u001b[0;32m    161\u001b[0m \u001b[38;5;250m\u001b[39m\u001b[38;5;124;03m\"\"\"Execute the coroutine and return the result.\u001b[39;00m\n\u001b[0;32m    162\u001b[0m \n\u001b[0;32m    163\u001b[0m \u001b[38;5;124;03mThis function runs the passed coroutine, taking care of\u001b[39;00m\n\u001b[1;32m   (...)\u001b[0m\n\u001b[0;32m    182\u001b[0m \u001b[38;5;124;03m    asyncio.run(main())\u001b[39;00m\n\u001b[0;32m    183\u001b[0m \u001b[38;5;124;03m\"\"\"\u001b[39;00m\n\u001b[0;32m    184\u001b[0m \u001b[38;5;28;01mif\u001b[39;00m events\u001b[38;5;241m.\u001b[39m_get_running_loop() \u001b[38;5;129;01mis\u001b[39;00m \u001b[38;5;129;01mnot\u001b[39;00m \u001b[38;5;28;01mNone\u001b[39;00m:\n\u001b[0;32m    185\u001b[0m     \u001b[38;5;66;03m# fail fast with short traceback\u001b[39;00m\n\u001b[1;32m--> 186\u001b[0m     \u001b[38;5;28;01mraise\u001b[39;00m \u001b[38;5;167;01mRuntimeError\u001b[39;00m(\n\u001b[0;32m    187\u001b[0m         \u001b[38;5;124m\"\u001b[39m\u001b[38;5;124masyncio.run() cannot be called from a running event loop\u001b[39m\u001b[38;5;124m\"\u001b[39m)\n\u001b[0;32m    189\u001b[0m \u001b[38;5;28;01mwith\u001b[39;00m Runner(debug\u001b[38;5;241m=\u001b[39mdebug) \u001b[38;5;28;01mas\u001b[39;00m runner:\n\u001b[0;32m    190\u001b[0m     \u001b[38;5;28;01mreturn\u001b[39;00m runner\u001b[38;5;241m.\u001b[39mrun(main)\n",
      "\u001b[1;31mRuntimeError\u001b[0m: asyncio.run() cannot be called from a running event loop"
     ]
    }
   ],
   "source": [
    "import asyncio\n",
    "import aiohttp\n",
    "\n",
    "async def fetch(session, url):\n",
    "    async with session.get(url) as response:\n",
    "        return await response.text()\n",
    "\n",
    "async def main():\n",
    "    urls = [\"https://httpbin.org/delay/2\"] * 3\n",
    "    async with aiohttp.ClientSession() as session:\n",
    "        tasks = [fetch(session, url) for url in urls]\n",
    "        results = await asyncio.gather(*tasks)\n",
    "        print(\"Fetched all URLs\")\n",
    "\n",
    "asyncio.run(main())\n"
   ]
  },
  {
   "cell_type": "code",
   "execution_count": 11,
   "id": "fcf2afcd-42cb-44ad-b156-a13769f7702e",
   "metadata": {},
   "outputs": [
    {
     "name": "stdout",
     "output_type": "stream",
     "text": [
      "Fetched all URLs\n"
     ]
    }
   ],
   "source": [
    "import asyncio\n",
    "import aiohttp\n",
    "\n",
    "async def fetch(session, url):\n",
    "    async with session.get(url) as response:\n",
    "        return await response.text()\n",
    "\n",
    "async def main():\n",
    "    urls = [\"https://httpbin.org/delay/2\"] * 3\n",
    "    async with aiohttp.ClientSession() as session:\n",
    "        tasks = [fetch(session, url) for url in urls]\n",
    "        results = await asyncio.gather(*tasks)\n",
    "        print(\"Fetched all URLs\")\n",
    "\n",
    "await main()   \n"
   ]
  },
  {
   "cell_type": "code",
   "execution_count": 12,
   "id": "c107ac76-c607-4142-9ba3-6160bf1bc945",
   "metadata": {},
   "outputs": [],
   "source": [
    "#Queue and Pool"
   ]
  },
  {
   "cell_type": "code",
   "execution_count": 13,
   "id": "5f52f3e3-d400-48c1-80de-fe9270e7a0e2",
   "metadata": {},
   "outputs": [
    {
     "name": "stdout",
     "output_type": "stream",
     "text": [
      "Processing 0\n",
      "Processing 1\n",
      "Processing 2\n",
      "Processing 3\n",
      "Processing 4\n"
     ]
    }
   ],
   "source": [
    "import threading\n",
    "import queue\n",
    "import time\n",
    "\n",
    "q = queue.Queue()\n",
    "\n",
    "def worker():\n",
    "    while not q.empty():\n",
    "        item = q.get()\n",
    "        print(f\"Processing {item}\")\n",
    "        time.sleep(1)\n",
    "        q.task_done()\n",
    "\n",
    "for i in range(5):\n",
    "    q.put(i)\n",
    "\n",
    "threads = []\n",
    "for _ in range(2):\n",
    "    t = threading.Thread(target=worker)\n",
    "    t.start()\n",
    "    threads.append(t)\n",
    "\n",
    "for t in threads:\n",
    "    t.join()\n"
   ]
  },
  {
   "cell_type": "code",
   "execution_count": 14,
   "id": "c6adcd42-68d9-4a38-9189-287a67528561",
   "metadata": {},
   "outputs": [],
   "source": [
    "#pool"
   ]
  },
  {
   "cell_type": "code",
   "execution_count": null,
   "id": "5b7cd160-f47e-4ced-9d16-e3f624bc2e8e",
   "metadata": {},
   "outputs": [],
   "source": [
    "from multiprocessing import Pool\n",
    "\n",
    "def square(n):\n",
    "    return n * n\n",
    "\n",
    "with Pool(4) as p:\n",
    "    results = p.map(square, [1, 2, 3, 4, 5])\n",
    "    print(results)\n",
    "\n"
   ]
  },
  {
   "cell_type": "code",
   "execution_count": null,
   "id": "21dacf69-b4e9-4893-8e86-f53194e641b9",
   "metadata": {},
   "outputs": [],
   "source": [
    "#Preformance Measurement"
   ]
  },
  {
   "cell_type": "code",
   "execution_count": null,
   "id": "1977dd3c-e617-40a6-ac7b-fdf0f6d1c176",
   "metadata": {},
   "outputs": [],
   "source": [
    "import timeit\n",
    "\n",
    "print(timeit.timeit(\"sum(range(1000))\", number=10000))\n"
   ]
  },
  {
   "cell_type": "code",
   "execution_count": null,
   "id": "032a8829-9a0e-45ec-9580-9be780616da2",
   "metadata": {},
   "outputs": [],
   "source": [
    "#using cProfile\n",
    "import cProfile\n",
    "\n",
    "def my_function():\n",
    "    total = sum([i for i in range(10000)])\n",
    "    return total\n",
    "\n",
    "cProfile.run('my_function()')\n"
   ]
  },
  {
   "cell_type": "code",
   "execution_count": 1,
   "id": "87a0aebe-a7e0-49f6-b9b9-8331c3fa4589",
   "metadata": {},
   "outputs": [
    {
     "name": "stdout",
     "output_type": "stream",
     "text": [
      "image2.jpg downloaded!\n",
      "image1.png downloaded!\n",
      "image3.webp downloaded!\n",
      "All downloads finished in 5.46 seconds.\n"
     ]
    }
   ],
   "source": [
    "import threading\n",
    "import requests\n",
    "import time\n",
    "\n",
    "def download_file(url, filename):\n",
    "    response = requests.get(url)\n",
    "    with open(filename, \"wb\") as f:\n",
    "        f.write(response.content)\n",
    "    print(f\"{filename} downloaded!\")\n",
    "\n",
    "def main():\n",
    "    urls = [\n",
    "        (\"https://httpbin.org/image/png\", \"image1.png\"),\n",
    "        (\"https://httpbin.org/image/jpeg\", \"image2.jpg\"),\n",
    "        (\"https://httpbin.org/image/webp\", \"image3.webp\"),\n",
    "    ]\n",
    "\n",
    "    threads = []\n",
    "    start = time.time()\n",
    "\n",
    "    for url, filename in urls:\n",
    "        thread = threading.Thread(target=download_file, args=(url, filename))\n",
    "        threads.append(thread)\n",
    "        thread.start()\n",
    "\n",
    "    for thread in threads:\n",
    "        thread.join()\n",
    "\n",
    "    end = time.time()\n",
    "    print(f\"All downloads finished in {end - start:.2f} seconds.\")\n",
    "\n",
    "if __name__ == \"__main__\":\n",
    "    main()\n"
   ]
  },
  {
   "cell_type": "code",
   "execution_count": 2,
   "id": "bef67407-fc2d-48fe-bade-2655feaf8e58",
   "metadata": {},
   "outputs": [
    {
     "name": "stdout",
     "output_type": "stream",
     "text": [
      "Processing Task-1\n",
      "Processing Task-2\n",
      "Processing Task-3\n",
      "Processing Task-4\n",
      "Processing Task-5\n",
      "All tasks completed!\n"
     ]
    }
   ],
   "source": [
    "import threading\n",
    "import queue\n",
    "import time\n",
    "\n",
    "def worker(q):\n",
    "    while not q.empty():\n",
    "        item = q.get()\n",
    "        print(f\"Processing {item}\")\n",
    "        time.sleep(1)  # Simulate work\n",
    "        q.task_done()\n",
    "\n",
    "def main():\n",
    "    q = queue.Queue()\n",
    "\n",
    "    # Put items into the queue\n",
    "    for i in range(5):\n",
    "        q.put(f\"Task-{i+1}\")\n",
    "\n",
    "    # Create worker threads\n",
    "    threads = []\n",
    "    for _ in range(2):  # Two worker threads\n",
    "        t = threading.Thread(target=worker, args=(q,))\n",
    "        t.start()\n",
    "        threads.append(t)\n",
    "\n",
    "    # Wait for all tasks to complete\n",
    "    q.join()\n",
    "    print(\"All tasks completed!\")\n",
    "\n",
    "if __name__ == \"__main__\":\n",
    "    main()\n"
   ]
  },
  {
   "cell_type": "code",
   "execution_count": 4,
   "id": "6f2d5fc1-84b8-4044-979f-47adb995a3bd",
   "metadata": {},
   "outputs": [
    {
     "name": "stdout",
     "output_type": "stream",
     "text": [
      "Fetched gaearon: dan, followers: 89579\n",
      "Fetched defunkt: Chris Wanstrath, followers: 22500\n",
      "Fetched kennethreitz: Kenneth Reitz, followers: 29527\n",
      "Fetched dhh: David Heinemeier Hansson, followers: 21356\n",
      "Fetched JakeWharton: Jake Wharton, followers: 67835\n",
      "Fetched mojombo: Tom Preston-Werner, followers: 24263\n",
      "Fetched wycats: Yehuda Katz, followers: 10279\n",
      "Fetched torvalds: Linus Torvalds, followers: 241531\n",
      "Fetched tj: TJ, followers: 51257\n",
      "Fetched pjhyett: PJ Hyett, followers: 8334\n"
     ]
    }
   ],
   "source": [
    "import asyncio\n",
    "import aiohttp\n",
    "\n",
    "GITHUB_USERS = [\n",
    "    \"torvalds\", \"mojombo\", \"defunkt\", \"pjhyett\", \"wycats\",\n",
    "    \"dhh\", \"tj\", \"gaearon\", \"JakeWharton\", \"kennethreitz\"\n",
    "]\n",
    "\n",
    "async def fetch_profile(session, username):\n",
    "    url = f\"https://api.github.com/users/{username}\"\n",
    "    async with session.get(url) as response:\n",
    "        data = await response.json()\n",
    "        print(f\"Fetched {username}: {data.get('name')}, followers: {data.get('followers')}\")\n",
    "        return data\n",
    "\n",
    "async def main():\n",
    "    async with aiohttp.ClientSession() as session:\n",
    "        tasks = [fetch_profile(session, user) for user in GITHUB_USERS]\n",
    "        await asyncio.gather(*tasks)\n",
    "\n",
    "# Important For Jupyter: Use nest_asyncio to avoid RuntimeError\n",
    "import nest_asyncio\n",
    "nest_asyncio.apply()\n",
    "\n",
    "await main()\n"
   ]
  },
  {
   "cell_type": "code",
   "execution_count": null,
   "id": "8dfe6a1f-32a3-4466-96d0-67b3184749d2",
   "metadata": {},
   "outputs": [],
   "source": []
  }
 ],
 "metadata": {
  "kernelspec": {
   "display_name": "Python 3 (ipykernel)",
   "language": "python",
   "name": "python3"
  },
  "language_info": {
   "codemirror_mode": {
    "name": "ipython",
    "version": 3
   },
   "file_extension": ".py",
   "mimetype": "text/x-python",
   "name": "python",
   "nbconvert_exporter": "python",
   "pygments_lexer": "ipython3",
   "version": "3.11.7"
  }
 },
 "nbformat": 4,
 "nbformat_minor": 5
}
