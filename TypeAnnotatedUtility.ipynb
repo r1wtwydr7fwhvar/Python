{
 "cells": [
  {
   "cell_type": "code",
   "execution_count": 12,
   "id": "c9c7f631-7fc1-40ab-8369-9433ffa731bf",
   "metadata": {},
   "outputs": [
    {
     "name": "stdout",
     "output_type": "stream",
     "text": [
      "naaksuM\n"
     ]
    }
   ],
   "source": [
    "from typing import Annotated\n",
    "\n",
    "def reverse_string(s: Annotated[str, \"Input string to reverse\"]) -> str:\n",
    "    \"\"\"Reverse the str.\"\"\"\n",
    "    return s[::-1]\n",
    "\n",
    "result = reverse_string(\"Muskaan\")\n",
    "print(result)  \n"
   ]
  },
  {
   "cell_type": "code",
   "execution_count": 11,
   "id": "44c5f595-3074-4de5-ba3b-425d383af3ac",
   "metadata": {},
   "outputs": [
    {
     "name": "stdout",
     "output_type": "stream",
     "text": [
      "10\n"
     ]
    }
   ],
   "source": [
    "from typing import List\n",
    "\n",
    "def sum_numbers(numbers: List[int]) -> int:\n",
    "    \"\"\"Calculate sum of a list of int.\"\"\"\n",
    "    return sum(numbers)\n",
    "\n",
    "result = sum_numbers([1, 2, 3, 4])\n",
    "print(result)  \n"
   ]
  },
  {
   "cell_type": "code",
   "execution_count": null,
   "id": "ba710e53-0274-4bf0-863b-b6c83adfe1cf",
   "metadata": {},
   "outputs": [],
   "source": []
  }
 ],
 "metadata": {
  "kernelspec": {
   "display_name": "Python 3 (ipykernel)",
   "language": "python",
   "name": "python3"
  },
  "language_info": {
   "codemirror_mode": {
    "name": "ipython",
    "version": 3
   },
   "file_extension": ".py",
   "mimetype": "text/x-python",
   "name": "python",
   "nbconvert_exporter": "python",
   "pygments_lexer": "ipython3",
   "version": "3.11.7"
  }
 },
 "nbformat": 4,
 "nbformat_minor": 5
}
