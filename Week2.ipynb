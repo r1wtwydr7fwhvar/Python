{
 "cells": [
  {
   "cell_type": "code",
   "execution_count": 1,
   "id": "eabb89d9-c603-449a-bfab-587533f3728b",
   "metadata": {},
   "outputs": [
    {
     "name": "stderr",
     "output_type": "stream",
     "text": [
      ".\n",
      "----------------------------------------------------------------------\n",
      "Ran 1 test in 0.001s\n",
      "\n",
      "OK\n"
     ]
    },
    {
     "data": {
      "text/plain": [
       "<unittest.runner.TextTestResult run=1 errors=0 failures=0>"
      ]
     },
     "execution_count": 1,
     "metadata": {},
     "output_type": "execute_result"
    }
   ],
   "source": [
    "import unittest\n",
    "\n",
    "class TestMath(unittest.TestCase):\n",
    "    def test_add(self):\n",
    "        self.assertEqual(2 + 3, 5)\n",
    "\n",
    "suite = unittest.TestLoader().loadTestsFromTestCase(TestMath)\n",
    "unittest.TextTestRunner().run(suite)\n"
   ]
  },
  {
   "cell_type": "code",
   "execution_count": 2,
   "id": "7f6507af-ce7d-4bec-816e-95084fcf29a5",
   "metadata": {},
   "outputs": [
    {
     "name": "stdout",
     "output_type": "stream",
     "text": [
      "Writing test_math.py\n"
     ]
    }
   ],
   "source": [
    "%%writefile test_math.py\n",
    "def is_even(n):\n",
    "    return n % 2 == 0\n",
    "\n",
    "def test_is_even():\n",
    "    assert is_even(4) == True\n",
    "    assert is_even(5) == False\n"
   ]
  },
  {
   "cell_type": "code",
   "execution_count": 3,
   "id": "edc9eb93-812c-447a-939f-cfd6148ca56a",
   "metadata": {},
   "outputs": [
    {
     "name": "stdout",
     "output_type": "stream",
     "text": [
      "\u001b[1m============================= test session starts =============================\u001b[0m\n",
      "platform win32 -- Python 3.11.7, pytest-7.4.0, pluggy-1.0.0\n",
      "rootdir: C:\\Users\\smkmu\n",
      "plugins: anyio-4.2.0\n",
      "collected 1 item\n",
      "\n",
      "test_math.py \u001b[32m.\u001b[0m\u001b[32m                                                           [100%]\u001b[0m\n",
      "\n",
      "\u001b[32m============================== \u001b[32m\u001b[1m1 passed\u001b[0m\u001b[32m in 0.01s\u001b[0m\u001b[32m ==============================\u001b[0m\n"
     ]
    }
   ],
   "source": [
    "!pytest test_math.py\n"
   ]
  },
  {
   "cell_type": "code",
   "execution_count": 4,
   "id": "796938ff-4e46-4f11-851f-907cf9870449",
   "metadata": {},
   "outputs": [
    {
     "name": "stdout",
     "output_type": "stream",
     "text": [
      "Overwriting test_math.py\n"
     ]
    }
   ],
   "source": [
    "%%writefile test_math.py\n",
    "\n",
    "def is_even(n):\n",
    "    return n % 2 == 0\n",
    "\n",
    "def test_is_even_true():\n",
    "    assert is_even(4) == True\n",
    "\n",
    "def test_is_even_false():\n",
    "    assert is_even(5) == False\n",
    "\n",
    "def test_is_even_zero():\n",
    "    assert is_even(0) == True\n"
   ]
  },
  {
   "cell_type": "code",
   "execution_count": 5,
   "id": "3f3e665e-9b9d-4ab0-a477-70f3bf90573d",
   "metadata": {},
   "outputs": [
    {
     "name": "stdout",
     "output_type": "stream",
     "text": [
      "\u001b[1m============================= test session starts =============================\u001b[0m\n",
      "platform win32 -- Python 3.11.7, pytest-7.4.0, pluggy-1.0.0\n",
      "rootdir: C:\\Users\\smkmu\n",
      "plugins: anyio-4.2.0\n",
      "collected 3 items\n",
      "\n",
      "test_math.py \u001b[32m.\u001b[0m\u001b[32m.\u001b[0m\u001b[32m.\u001b[0m\u001b[32m                                                         [100%]\u001b[0m\n",
      "\n",
      "\u001b[32m============================== \u001b[32m\u001b[1m3 passed\u001b[0m\u001b[32m in 0.02s\u001b[0m\u001b[32m ==============================\u001b[0m\n"
     ]
    }
   ],
   "source": [
    "!pytest test_math.py"
   ]
  },
  {
   "cell_type": "code",
   "execution_count": 6,
   "id": "40385059-73bb-494f-9b79-9255b23b2dda",
   "metadata": {},
   "outputs": [
    {
     "name": "stdout",
     "output_type": "stream",
     "text": [
      "Overwriting test_math.py\n"
     ]
    }
   ],
   "source": [
    "%%writefile test_math.py\n",
    "\n",
    "from unittest.mock import MagicMock\n",
    "\n",
    "def get_number():\n",
    "    # Imagine this talks to an API\n",
    "    return 42\n",
    "\n",
    "def is_even(n):\n",
    "    return n % 2 == 0\n",
    "\n",
    "def test_is_even_with_mock():\n",
    "    mock = MagicMock()\n",
    "    mock.get_number.return_value = 4\n",
    "    assert is_even(mock.get_number()) == True\n"
   ]
  },
  {
   "cell_type": "code",
   "execution_count": 9,
   "id": "30d7dc1d-5d02-412a-bd18-4e979fc811cd",
   "metadata": {},
   "outputs": [
    {
     "name": "stdout",
     "output_type": "stream",
     "text": [
      "\u001b[1m============================= test session starts =============================\u001b[0m\n",
      "platform win32 -- Python 3.11.7, pytest-7.4.0, pluggy-1.0.0\n",
      "rootdir: C:\\Users\\smkmu\n",
      "plugins: anyio-4.2.0\n",
      "collected 1 item\n",
      "\n",
      "test_math.py \u001b[32m.\u001b[0m\u001b[32m                                                           [100%]\u001b[0m\n",
      "\n",
      "\u001b[32m============================== \u001b[32m\u001b[1m1 passed\u001b[0m\u001b[32m in 0.04s\u001b[0m\u001b[32m ==============================\u001b[0m\n"
     ]
    }
   ],
   "source": [
    "!pytest test_math.py"
   ]
  },
  {
   "cell_type": "code",
   "execution_count": 10,
   "id": "62f4f712-91f0-4c1f-9d0a-5bb22c024569",
   "metadata": {},
   "outputs": [
    {
     "name": "stdout",
     "output_type": "stream",
     "text": [
      "{'name': 'Alice'}\n"
     ]
    }
   ],
   "source": [
    "from unittest.mock import MagicMock\n",
    "\n",
    "mock_api = MagicMock()\n",
    "mock_api.get_data.return_value = {\"name\": \"Alice\"}\n",
    "\n",
    "print(mock_api.get_data())  # {'name': 'Alice'}\n",
    "\n"
   ]
  },
  {
   "cell_type": "code",
   "execution_count": 11,
   "id": "171789a8-99e9-425a-9305-202adb99d037",
   "metadata": {},
   "outputs": [],
   "source": [
    "def sample_data():\n",
    "    return {\"name\": \"Alice\", \"age\": 25}\n",
    "\n",
    "def test_sample_data():\n",
    "    data = sample_data()\n",
    "    assert data[\"name\"] == \"Alice\"\n",
    "\n",
    "test_sample_data()\n"
   ]
  },
  {
   "cell_type": "code",
   "execution_count": 12,
   "id": "b797f8ed-e1d6-4cf8-94c1-e36a2465f1fc",
   "metadata": {},
   "outputs": [
    {
     "name": "stderr",
     "output_type": "stream",
     "text": [
      "INFO:root:This is an info message\n"
     ]
    }
   ],
   "source": [
    "import logging\n",
    "\n",
    "logging.basicConfig(level=logging.INFO)\n",
    "logging.info(\"This is an info message\")\n"
   ]
  },
  {
   "cell_type": "code",
   "execution_count": 13,
   "id": "a7f190be-baae-4078-909b-766665ec6bbe",
   "metadata": {},
   "outputs": [
    {
     "name": "stdout",
     "output_type": "stream",
     "text": [
      "Writing test_logging.py\n"
     ]
    }
   ],
   "source": [
    "%%writefile test_logging.py\n",
    "\n",
    "import logging\n",
    "\n",
    "def greet(name):\n",
    "    logging.info(f\"Greeting {name}\")\n",
    "    return f\"Hello, {name}\"\n",
    "\n",
    "def test_greet_logs(caplog):\n",
    "    with caplog.at_level(logging.INFO):\n",
    "        greet(\"Alice\")\n",
    "        assert \"Greeting Alice\" in caplog.text\n"
   ]
  },
  {
   "cell_type": "code",
   "execution_count": 14,
   "id": "e2ba4a48-aae1-42c1-982c-f5b9795ccd2a",
   "metadata": {},
   "outputs": [
    {
     "name": "stdout",
     "output_type": "stream",
     "text": [
      "\u001b[1m============================= test session starts =============================\u001b[0m\n",
      "platform win32 -- Python 3.11.7, pytest-7.4.0, pluggy-1.0.0\n",
      "rootdir: C:\\Users\\smkmu\n",
      "plugins: anyio-4.2.0\n",
      "collected 1 item\n",
      "\n",
      "test_logging.py \u001b[32m.\u001b[0m\u001b[32m                                                        [100%]\u001b[0m\n",
      "\n",
      "\u001b[32m============================== \u001b[32m\u001b[1m1 passed\u001b[0m\u001b[32m in 0.01s\u001b[0m\u001b[32m ==============================\u001b[0m\n"
     ]
    }
   ],
   "source": [
    "!pytest test_logging.py"
   ]
  },
  {
   "cell_type": "code",
   "execution_count": 15,
   "id": "8b797bc1-155b-4220-b146-bc139099caa0",
   "metadata": {},
   "outputs": [
    {
     "name": "stdout",
     "output_type": "stream",
     "text": [
      "> \u001b[1;32mc:\\users\\smkmu\\appdata\\local\\temp\\ipykernel_352\\311725974.py\u001b[0m(5)\u001b[0;36mbuggy_function\u001b[1;34m()\u001b[0m\n",
      "\n"
     ]
    },
    {
     "name": "stdin",
     "output_type": "stream",
     "text": [
      "ipdb>  1\n"
     ]
    },
    {
     "name": "stdout",
     "output_type": "stream",
     "text": [
      "1\n"
     ]
    },
    {
     "name": "stdin",
     "output_type": "stream",
     "text": [
      "ipdb>  c:\\users\\smkmu\\appdata\\local\\temp\\ipykernel_352\\311725974.py(5)buggy_function()\n"
     ]
    },
    {
     "data": {
      "text/plain": [
       "6"
      ]
     },
     "execution_count": 15,
     "metadata": {},
     "output_type": "execute_result"
    }
   ],
   "source": [
    "import pdb\n",
    "\n",
    "def buggy_function(x):\n",
    "    pdb.set_trace()\n",
    "    return x + 1\n",
    "\n",
    "buggy_function(5)\n"
   ]
  },
  {
   "cell_type": "code",
   "execution_count": 16,
   "id": "ef775346-3bdb-4caa-9eb1-97ace52ea79d",
   "metadata": {},
   "outputs": [
    {
     "name": "stdout",
     "output_type": "stream",
     "text": [
      "> \u001b[1;32mc:\\users\\smkmu\\appdata\\local\\temp\\ipykernel_352\\2729086680.py\u001b[0m(1)\u001b[0;36m<module>\u001b[1;34m()\u001b[0m\n",
      "\n"
     ]
    },
    {
     "name": "stdin",
     "output_type": "stream",
     "text": [
      "ipdb>  p x\n"
     ]
    },
    {
     "name": "stdout",
     "output_type": "stream",
     "text": [
      "*** NameError: name 'x' is not defined\n"
     ]
    },
    {
     "name": "stdin",
     "output_type": "stream",
     "text": [
      "ipdb>  c:\\users\\smkmu\\appdata\\local\\temp\\ipykernel_352\\311725974.py(5)buggy_function()\n"
     ]
    }
   ],
   "source": [
    "import pdb\n",
    "\n",
    "def buggy_function(x):\n",
    "    pdb.set_trace()   # Pause here\n",
    "    y = x + 1\n",
    "    return y\n",
    "\n",
    "buggy_function(5)"
   ]
  },
  {
   "cell_type": "code",
   "execution_count": 17,
   "id": "fb34a985-b9ba-4c0a-9b69-9f6802afdfa7",
   "metadata": {},
   "outputs": [
    {
     "name": "stdout",
     "output_type": "stream",
     "text": [
      "> \u001b[1;32mc:\\users\\smkmu\\appdata\\local\\temp\\ipykernel_352\\322943137.py\u001b[0m(5)\u001b[0;36mbuggy_function\u001b[1;34m()\u001b[0m\n",
      "\n"
     ]
    },
    {
     "name": "stdin",
     "output_type": "stream",
     "text": [
      "ipdb>  p x\n"
     ]
    },
    {
     "name": "stdout",
     "output_type": "stream",
     "text": [
      "5\n"
     ]
    },
    {
     "name": "stdin",
     "output_type": "stream",
     "text": [
      "ipdb>  n\n"
     ]
    },
    {
     "name": "stdout",
     "output_type": "stream",
     "text": [
      "> \u001b[1;32mc:\\users\\smkmu\\appdata\\local\\temp\\ipykernel_352\\322943137.py\u001b[0m(6)\u001b[0;36mbuggy_function\u001b[1;34m()\u001b[0m\n",
      "\n"
     ]
    },
    {
     "name": "stdin",
     "output_type": "stream",
     "text": [
      "ipdb>  c\n"
     ]
    },
    {
     "data": {
      "text/plain": [
       "6"
      ]
     },
     "execution_count": 17,
     "metadata": {},
     "output_type": "execute_result"
    }
   ],
   "source": [
    "import pdb\n",
    "\n",
    "def buggy_function(x):\n",
    "    pdb.set_trace()   # Pause here\n",
    "    y = x + 1\n",
    "    return y\n",
    "\n",
    "buggy_function(5)"
   ]
  },
  {
   "cell_type": "code",
   "execution_count": 22,
   "id": "fa350288-33d7-4b01-aec4-d8ab2fc72822",
   "metadata": {},
   "outputs": [
    {
     "name": "stdout",
     "output_type": "stream",
     "text": [
      "> \u001b[1;32mc:\\users\\smkmu\\anaconda3\\lib\\site-packages\\ipython\\core\\interactiveshell.py\u001b[0m(2436)\u001b[0;36mrun_line_magic\u001b[1;34m()\u001b[0m\n",
      "\u001b[1;32m   2434 \u001b[1;33m            extra = '' if cm is None else (' (But cell magic `%%%%%s` exists, '\n",
      "\u001b[0m\u001b[1;32m   2435 \u001b[1;33m                                    'did you mean that instead?)' % magic_name )\n",
      "\u001b[0m\u001b[1;32m-> 2436 \u001b[1;33m            \u001b[1;32mraise\u001b[0m \u001b[0mUsageError\u001b[0m\u001b[1;33m(\u001b[0m\u001b[0metpl\u001b[0m \u001b[1;33m%\u001b[0m \u001b[1;33m(\u001b[0m\u001b[0mmagic_name\u001b[0m\u001b[1;33m,\u001b[0m \u001b[0mextra\u001b[0m\u001b[1;33m)\u001b[0m\u001b[1;33m)\u001b[0m\u001b[1;33m\u001b[0m\u001b[1;33m\u001b[0m\u001b[0m\n",
      "\u001b[0m\u001b[1;32m   2437 \u001b[1;33m        \u001b[1;32melse\u001b[0m\u001b[1;33m:\u001b[0m\u001b[1;33m\u001b[0m\u001b[1;33m\u001b[0m\u001b[0m\n",
      "\u001b[0m\u001b[1;32m   2438 \u001b[1;33m            \u001b[1;31m# Note: this is the distance in the stack to the user's frame.\u001b[0m\u001b[1;33m\u001b[0m\u001b[1;33m\u001b[0m\u001b[0m\n",
      "\u001b[0m\n"
     ]
    },
    {
     "name": "stdin",
     "output_type": "stream",
     "text": [
      "ipdb>  n\n"
     ]
    }
   ],
   "source": [
    "%debug"
   ]
  },
  {
   "cell_type": "code",
   "execution_count": 26,
   "id": "1ca97f3f-d1a1-48c0-8145-6ab5a595a34f",
   "metadata": {},
   "outputs": [
    {
     "name": "stdout",
     "output_type": "stream",
     "text": [
      "Requirement already satisfied: flake8 in c:\\users\\smkmu\\anaconda3\\lib\\site-packages (6.0.0)\n",
      "Requirement already satisfied: mccabe<0.8.0,>=0.7.0 in c:\\users\\smkmu\\anaconda3\\lib\\site-packages (from flake8) (0.7.0)\n",
      "Requirement already satisfied: pycodestyle<2.11.0,>=2.10.0 in c:\\users\\smkmu\\anaconda3\\lib\\site-packages (from flake8) (2.10.0)\n",
      "Requirement already satisfied: pyflakes<3.1.0,>=3.0.0 in c:\\users\\smkmu\\anaconda3\\lib\\site-packages (from flake8) (3.0.1)\n"
     ]
    }
   ],
   "source": [
    "!pip install flake8\n"
   ]
  },
  {
   "cell_type": "code",
   "execution_count": 27,
   "id": "a25f03b1-ccc9-4de2-97c5-64b6566f6b91",
   "metadata": {},
   "outputs": [
    {
     "name": "stdout",
     "output_type": "stream",
     "text": [
      "test_math.py:4:1: E302 expected 2 blank lines, found 1\n",
      "test_math.py:8:1: E302 expected 2 blank lines, found 1\n",
      "test_math.py:11:1: E302 expected 2 blank lines, found 1\n",
      "test_math.py:14:39: E712 comparison to True should be 'if cond is True:' or 'if cond:'\n"
     ]
    }
   ],
   "source": [
    "!flake8 test_math.py"
   ]
  },
  {
   "cell_type": "code",
   "execution_count": 28,
   "id": "40028077-5970-46e4-8947-494b36b465ee",
   "metadata": {},
   "outputs": [
    {
     "name": "stdout",
     "output_type": "stream",
     "text": [
      "Overwriting test_math.py\n"
     ]
    }
   ],
   "source": [
    "%%writefile test_math.py\n",
    "\n",
    "from unittest.mock import MagicMock\n",
    "\n",
    "\n",
    "def get_number():\n",
    "    # Imagine this talks to an API\n",
    "    return 42\n",
    "\n",
    "\n",
    "def is_even(n):\n",
    "    return n % 2 == 0\n",
    "\n",
    "\n",
    "def test_is_even_with_mock():\n",
    "    mock = MagicMock()\n",
    "    mock.get_number.return_value = 4\n",
    "    assert is_even(mock.get_number())\n"
   ]
  },
  {
   "cell_type": "code",
   "execution_count": 29,
   "id": "de6082af-c378-473b-aea9-74a955e5abab",
   "metadata": {},
   "outputs": [],
   "source": [
    "!flake8 test_math.py\n"
   ]
  },
  {
   "cell_type": "code",
   "execution_count": 30,
   "id": "02cffdf4-b15f-439e-b90f-4cd88b7bf4dd",
   "metadata": {},
   "outputs": [
    {
     "name": "stderr",
     "output_type": "stream",
     "text": [
      "reformatted test_math.py\n",
      "\n",
      "All done! \\u2728 \\U0001f370 \\u2728\n",
      "1 file reformatted.\n"
     ]
    }
   ],
   "source": [
    "!black test_math.py\n"
   ]
  },
  {
   "cell_type": "code",
   "execution_count": 31,
   "id": "5b0118c5-e8a6-417e-a28b-bd1bb9dcbbde",
   "metadata": {},
   "outputs": [],
   "source": [
    "#TDD"
   ]
  },
  {
   "cell_type": "code",
   "execution_count": 32,
   "id": "d042e929-94cc-439d-8c07-dafd86759023",
   "metadata": {},
   "outputs": [
    {
     "name": "stdout",
     "output_type": "stream",
     "text": [
      "Writing test_calculator.py\n"
     ]
    }
   ],
   "source": [
    "%%writefile test_calculator.py\n",
    "\n",
    "import pytest\n",
    "\n",
    "from calculator import add, subtract, multiply, divide\n",
    "\n",
    "def test_add():\n",
    "    assert add(2, 3) == 5\n",
    "\n",
    "def test_subtract():\n",
    "    assert subtract(5, 3) == 2\n",
    "\n",
    "def test_multiply():\n",
    "    assert multiply(4, 3) == 12\n",
    "\n",
    "def test_divide():\n",
    "    assert divide(10, 2) == 5\n",
    "\n",
    "def test_divide_by_zero():\n",
    "    with pytest.raises(ZeroDivisionError):\n",
    "        divide(5, 0)\n"
   ]
  },
  {
   "cell_type": "code",
   "execution_count": 33,
   "id": "6e2f3723-1300-44a0-a31b-d35695778afa",
   "metadata": {},
   "outputs": [
    {
     "name": "stdout",
     "output_type": "stream",
     "text": [
      "\u001b[1m============================= test session starts =============================\u001b[0m\n",
      "platform win32 -- Python 3.11.7, pytest-7.4.0, pluggy-1.0.0\n",
      "rootdir: C:\\Users\\smkmu\n",
      "plugins: anyio-4.2.0\n",
      "collected 0 items / 1 error\n",
      "\n",
      "=================================== ERRORS ====================================\n",
      "\u001b[31m\u001b[1m_____________________ ERROR collecting test_calculator.py _____________________\u001b[0m\n",
      "\u001b[31mImportError while importing test module 'C:\\Users\\smkmu\\test_calculator.py'.\n",
      "Hint: make sure your test modules/packages have valid Python names.\n",
      "Traceback:\n",
      "\u001b[1m\u001b[31manaconda3\\Lib\\importlib\\__init__.py\u001b[0m:126: in import_module\n",
      "    \u001b[94mreturn\u001b[39;49;00m _bootstrap._gcd_import(name[level:], package, level)\u001b[90m\u001b[39;49;00m\n",
      "\u001b[1m\u001b[31mtest_calculator.py\u001b[0m:4: in <module>\n",
      "    \u001b[94mfrom\u001b[39;49;00m \u001b[04m\u001b[96mcalculator\u001b[39;49;00m \u001b[94mimport\u001b[39;49;00m add, subtract, multiply, divide\u001b[90m\u001b[39;49;00m\n",
      "\u001b[1m\u001b[31mE   ModuleNotFoundError: No module named 'calculator'\u001b[0m\u001b[0m\n",
      "\u001b[36m\u001b[1m=========================== short test summary info ===========================\u001b[0m\n",
      "\u001b[31mERROR\u001b[0m test_calculator.py\n",
      "!!!!!!!!!!!!!!!!!!! Interrupted: 1 error during collection !!!!!!!!!!!!!!!!!!!!\n",
      "\u001b[31m============================== \u001b[31m\u001b[1m1 error\u001b[0m\u001b[31m in 0.12s\u001b[0m\u001b[31m ===============================\u001b[0m\n"
     ]
    }
   ],
   "source": [
    "!pytest test_calculator.py\n"
   ]
  },
  {
   "cell_type": "code",
   "execution_count": 34,
   "id": "32d32adf-aa35-4e67-be24-81f024e9a2b5",
   "metadata": {},
   "outputs": [],
   "source": [
    "import sys\n",
    "import os\n",
    "sys.path.append(os.getcwd())\n"
   ]
  },
  {
   "cell_type": "code",
   "execution_count": 41,
   "id": "f3d17803-c818-4d83-8709-aec77ce8bc10",
   "metadata": {},
   "outputs": [
    {
     "name": "stdout",
     "output_type": "stream",
     "text": [
      "Overwriting test_calculator.py\n"
     ]
    }
   ],
   "source": [
    "%%writefile test_calculator.py\n",
    "\n",
    "\n",
    "import sys\n",
    "import os\n",
    "sys.path.append(os.getcwd())\n",
    "\n",
    "import pytest\n",
    "from calculator import add, subtract, multiply, divide\n",
    "\n",
    "def test_add():\n",
    "    assert add(2, 3) == 5\n",
    "\n",
    "def test_subtract():\n",
    "    assert subtract(5, 3) == 2\n",
    "\n",
    "def test_multiply():\n",
    "    assert multiply(4, 3) == 12\n",
    "\n",
    "def test_divide():\n",
    "    assert divide(10, 2) == 5\n",
    "\n",
    "def test_divide_by_zero():\n",
    "    with pytest.raises(ZeroDivisionError):\n",
    "        divide(5, 0)\n",
    "\n"
   ]
  },
  {
   "cell_type": "code",
   "execution_count": 43,
   "id": "b02237c7-a87d-4e38-9758-7c0253f4e8bc",
   "metadata": {},
   "outputs": [
    {
     "name": "stdout",
     "output_type": "stream",
     "text": [
      "\u001b[1m============================= test session starts =============================\u001b[0m\n",
      "platform win32 -- Python 3.11.7, pytest-7.4.0, pluggy-1.0.0\n",
      "rootdir: C:\\Users\\smkmu\n",
      "plugins: anyio-4.2.0\n",
      "collected 0 items / 1 error\n",
      "\n",
      "=================================== ERRORS ====================================\n",
      "\u001b[31m\u001b[1m_____________________ ERROR collecting test_calculator.py _____________________\u001b[0m\n",
      "\u001b[31mImportError while importing test module 'C:\\Users\\smkmu\\test_calculator.py'.\n",
      "Hint: make sure your test modules/packages have valid Python names.\n",
      "Traceback:\n",
      "\u001b[1m\u001b[31manaconda3\\Lib\\importlib\\__init__.py\u001b[0m:126: in import_module\n",
      "    \u001b[94mreturn\u001b[39;49;00m _bootstrap._gcd_import(name[level:], package, level)\u001b[90m\u001b[39;49;00m\n",
      "\u001b[1m\u001b[31mtest_calculator.py\u001b[0m:8: in <module>\n",
      "    \u001b[94mfrom\u001b[39;49;00m \u001b[04m\u001b[96mcalculator\u001b[39;49;00m \u001b[94mimport\u001b[39;49;00m add, subtract, multiply, divide\u001b[90m\u001b[39;49;00m\n",
      "\u001b[1m\u001b[31mE   ModuleNotFoundError: No module named 'calculator'\u001b[0m\u001b[0m\n",
      "\u001b[36m\u001b[1m=========================== short test summary info ===========================\u001b[0m\n",
      "\u001b[31mERROR\u001b[0m test_calculator.py\n",
      "!!!!!!!!!!!!!!!!!!! Interrupted: 1 error during collection !!!!!!!!!!!!!!!!!!!!\n",
      "\u001b[31m============================== \u001b[31m\u001b[1m1 error\u001b[0m\u001b[31m in 0.10s\u001b[0m\u001b[31m ===============================\u001b[0m\n"
     ]
    }
   ],
   "source": [
    "!pytest test_calculator.py\n"
   ]
  },
  {
   "cell_type": "code",
   "execution_count": 44,
   "id": "51f1874c-fd4d-4678-87a3-881c5ca72534",
   "metadata": {},
   "outputs": [
    {
     "name": "stdout",
     "output_type": "stream",
     "text": [
      "\u001b[1m============================= test session starts =============================\u001b[0m\n",
      "platform win32 -- Python 3.11.7, pytest-7.4.0, pluggy-1.0.0\n",
      "rootdir: C:\\Users\\smkmu\n",
      "plugins: anyio-4.2.0\n",
      "collected 0 items / 1 error\n",
      "\n",
      "=================================== ERRORS ====================================\n",
      "\u001b[31m\u001b[1m_____________________ ERROR collecting test_calculator.py _____________________\u001b[0m\n",
      "\u001b[31mImportError while importing test module 'C:\\Users\\smkmu\\test_calculator.py'.\n",
      "Hint: make sure your test modules/packages have valid Python names.\n",
      "Traceback:\n",
      "\u001b[1m\u001b[31manaconda3\\Lib\\importlib\\__init__.py\u001b[0m:126: in import_module\n",
      "    \u001b[94mreturn\u001b[39;49;00m _bootstrap._gcd_import(name[level:], package, level)\u001b[90m\u001b[39;49;00m\n",
      "\u001b[1m\u001b[31mtest_calculator.py\u001b[0m:8: in <module>\n",
      "    \u001b[94mfrom\u001b[39;49;00m \u001b[04m\u001b[96mcalculator\u001b[39;49;00m \u001b[94mimport\u001b[39;49;00m add, subtract, multiply, divide\u001b[90m\u001b[39;49;00m\n",
      "\u001b[1m\u001b[31mE   ModuleNotFoundError: No module named 'calculator'\u001b[0m\u001b[0m\n",
      "\u001b[36m\u001b[1m=========================== short test summary info ===========================\u001b[0m\n",
      "\u001b[31mERROR\u001b[0m test_calculator.py\n",
      "!!!!!!!!!!!!!!!!!!! Interrupted: 1 error during collection !!!!!!!!!!!!!!!!!!!!\n",
      "\u001b[31m============================== \u001b[31m\u001b[1m1 error\u001b[0m\u001b[31m in 0.16s\u001b[0m\u001b[31m ===============================\u001b[0m\n"
     ]
    }
   ],
   "source": [
    "!pytest test_calculator.py"
   ]
  },
  {
   "cell_type": "code",
   "execution_count": 45,
   "id": "6bcebe3a-5b96-4be2-aa8d-4cc1c64f258f",
   "metadata": {},
   "outputs": [
    {
     "name": "stdout",
     "output_type": "stream",
     "text": [
      "C:\\Users\\smkmu\n"
     ]
    }
   ],
   "source": [
    "import os\n",
    "print(os.getcwd())\n"
   ]
  },
  {
   "cell_type": "code",
   "execution_count": 46,
   "id": "a5845bd5-9b1d-44da-a15c-2ba067cbcfc6",
   "metadata": {},
   "outputs": [
    {
     "name": "stdout",
     "output_type": "stream",
     "text": [
      " Volume in drive C is Windows\n",
      " Volume Serial Number is E219-1592\n",
      "\n",
      " Directory of C:\\Users\\smkmu\n",
      "\n",
      "22-07-2025  23:01    <DIR>          .\n",
      "24-03-2025  05:03    <DIR>          ..\n",
      "31-07-2024  16:36    <DIR>          .anaconda\n",
      "22-07-2025  15:14    <DIR>          .android\n",
      "01-08-2024  11:11    <DIR>          .conda\n",
      "31-07-2024  16:36                25 .condarc\n",
      "31-07-2024  16:36    <DIR>          .continuum\n",
      "15-07-2025  15:07                16 .emulator_console_auth_token\n",
      "15-02-2025  15:23               289 .gitconfig\n",
      "15-07-2025  14:34               225 .gitignore\n",
      "15-07-2025  15:09    <DIR>          .gradle\n",
      "17-07-2025  12:54    <DIR>          .idea\n",
      "04-01-2024  12:10    <DIR>          .idlerc\n",
      "17-07-2025  21:41    <DIR>          .ipynb_checkpoints\n",
      "16-10-2024  21:14    <DIR>          .ipython\n",
      "31-07-2024  16:45    <DIR>          .jupyter\n",
      "08-03-2025  22:10    <DIR>          .keras\n",
      "16-10-2024  21:50    <DIR>          .matplotlib\n",
      "02-04-2025  00:09                21 .node_repl_history\n",
      "22-10-2024  16:45               176 .packettracer\n",
      "17-07-2025  21:21    <DIR>          .pytest_cache\n",
      "05-03-2025  00:49    <DIR>          .redhat\n",
      "15-02-2025  14:54    <DIR>          .vscode\n",
      "31-07-2024  16:08    <DIR>          anaconda3\n",
      "23-08-2023  15:15    <DIR>          ansel\n",
      "15-07-2025  15:07    <DIR>          app\n",
      "17-07-2025  21:03    <DIR>          bank_tdd\n",
      "09-07-2025  15:54            16,778 BasicPractice.ipynb\n",
      "15-07-2025  14:34               167 build.gradle.kts\n",
      "22-10-2024  16:45    <DIR>          Cisco Packet Tracer 8.2.2\n",
      "23-10-2024  22:24             9,927 cleaned_olympics_economics.csv\n",
      "20-08-2023  19:21    <DIR>          Contacts\n",
      "09-07-2025  15:49             2,181 db_operations.log\n",
      "16-10-2024  21:53           380,070 Dep_miniproject\n",
      "09-07-2025  21:01    <DIR>          Desktop\n",
      "20-08-2023  19:23    <DIR>          Documents\n",
      "22-07-2025  15:14    <DIR>          Downloads\n",
      "09-07-2025  01:31             8,192 example.db\n",
      "20-08-2023  19:21    <DIR>          Favorites\n",
      "06-03-2025  01:14                98 generated_cv.txt\n",
      "15-07-2025  14:34    <DIR>          gradle\n",
      "15-07-2025  14:34             1,255 gradle.properties\n",
      "15-07-2025  14:34             5,766 gradlew\n",
      "15-07-2025  14:34             2,763 gradlew.bat\n",
      "20-08-2023  19:21    <DIR>          Links\n",
      "15-07-2025  14:34               449 local.properties\n",
      "20-08-2023  19:21    <DIR>          Music\n",
      "22-07-2025  14:18    <DIR>          MyApplication\n",
      "22-07-2025  14:22    <DIR>          MyApplication1\n",
      "22-07-2025  14:22    <DIR>          MyApplication2\n",
      "22-07-2025  15:48    <DIR>          MyApplication3\n",
      "09-07-2025  01:29                51 mysql_db_operations.log\n",
      "02-04-2025  00:53                 0 node\n",
      "19-06-2025  10:55    <DIR>          OneDrive\n",
      "20-08-2023  19:21    <DIR>          Saved Games\n",
      "22-08-2023  01:39    <DIR>          Searches\n",
      "15-07-2025  15:37               557 settings.gradle.kts\n",
      "17-07-2025  21:42               440 test_calculator.py\n",
      "17-07-2025  21:27               250 test_logging.py\n",
      "17-07-2025  21:37               291 test_math.py\n",
      "09-07-2025  15:40             1,706 TypeAnnotatedUtility.ipynb\n",
      "23-10-2024  22:28           379,764 Untitled.ipynb\n",
      "23-10-2024  22:29           246,750 Untitled1.ipynb\n",
      "19-06-2025  23:10               617 Untitled2.ipynb\n",
      "09-07-2025  15:56            18,233 Untitled3.ipynb\n",
      "09-07-2025  01:34             4,592 Untitled4.ipynb\n",
      "09-07-2025  15:42             2,386 Untitled5.ipynb\n",
      "22-07-2025  23:01            25,546 Untitled6.ipynb\n",
      "17-07-2025  21:09                72 Untitled7.ipynb\n",
      "21-07-2024  23:37    <DIR>          Videos\n",
      "17-07-2025  21:42    <DIR>          __pycache__\n",
      "              32 File(s)      1,109,653 bytes\n",
      "              39 Dir(s)  834,389,307,392 bytes free\n"
     ]
    }
   ],
   "source": [
    "!dir\n"
   ]
  },
  {
   "cell_type": "code",
   "execution_count": 48,
   "id": "344ab899-1421-4fff-b032-e1db000681f6",
   "metadata": {},
   "outputs": [
    {
     "ename": "SyntaxError",
     "evalue": "invalid character '✅' (U+2705) (1770735825.py, line 1)",
     "output_type": "error",
     "traceback": [
      "\u001b[1;36m  Cell \u001b[1;32mIn[48], line 1\u001b[1;36m\u001b[0m\n\u001b[1;33m    calculator.py   ✅\u001b[0m\n\u001b[1;37m                    ^\u001b[0m\n\u001b[1;31mSyntaxError\u001b[0m\u001b[1;31m:\u001b[0m invalid character '✅' (U+2705)\n"
     ]
    }
   ],
   "source": [
    "calculator.py   ✅\n",
    "test_calculator.py   ✅\n"
   ]
  },
  {
   "cell_type": "code",
   "execution_count": 49,
   "id": "21ed4911-09c3-4455-9111-79c3eaa9dea6",
   "metadata": {},
   "outputs": [
    {
     "name": "stdout",
     "output_type": "stream",
     "text": [
      " Volume in drive C is Windows\n",
      " Volume Serial Number is E219-1592\n",
      "\n",
      " Directory of C:\\Users\\smkmu\n",
      "\n",
      "22-07-2025  23:01    <DIR>          .\n",
      "24-03-2025  05:03    <DIR>          ..\n",
      "31-07-2024  16:36    <DIR>          .anaconda\n",
      "22-07-2025  15:14    <DIR>          .android\n",
      "01-08-2024  11:11    <DIR>          .conda\n",
      "31-07-2024  16:36                25 .condarc\n",
      "31-07-2024  16:36    <DIR>          .continuum\n",
      "15-07-2025  15:07                16 .emulator_console_auth_token\n",
      "15-02-2025  15:23               289 .gitconfig\n",
      "15-07-2025  14:34               225 .gitignore\n",
      "15-07-2025  15:09    <DIR>          .gradle\n",
      "17-07-2025  12:54    <DIR>          .idea\n",
      "04-01-2024  12:10    <DIR>          .idlerc\n",
      "17-07-2025  21:41    <DIR>          .ipynb_checkpoints\n",
      "16-10-2024  21:14    <DIR>          .ipython\n",
      "31-07-2024  16:45    <DIR>          .jupyter\n",
      "08-03-2025  22:10    <DIR>          .keras\n",
      "16-10-2024  21:50    <DIR>          .matplotlib\n",
      "02-04-2025  00:09                21 .node_repl_history\n",
      "22-10-2024  16:45               176 .packettracer\n",
      "17-07-2025  21:21    <DIR>          .pytest_cache\n",
      "05-03-2025  00:49    <DIR>          .redhat\n",
      "15-02-2025  14:54    <DIR>          .vscode\n",
      "31-07-2024  16:08    <DIR>          anaconda3\n",
      "23-08-2023  15:15    <DIR>          ansel\n",
      "15-07-2025  15:07    <DIR>          app\n",
      "17-07-2025  21:03    <DIR>          bank_tdd\n",
      "09-07-2025  15:54            16,778 BasicPractice.ipynb\n",
      "15-07-2025  14:34               167 build.gradle.kts\n",
      "22-10-2024  16:45    <DIR>          Cisco Packet Tracer 8.2.2\n",
      "23-10-2024  22:24             9,927 cleaned_olympics_economics.csv\n",
      "20-08-2023  19:21    <DIR>          Contacts\n",
      "09-07-2025  15:49             2,181 db_operations.log\n",
      "16-10-2024  21:53           380,070 Dep_miniproject\n",
      "09-07-2025  21:01    <DIR>          Desktop\n",
      "20-08-2023  19:23    <DIR>          Documents\n",
      "22-07-2025  15:14    <DIR>          Downloads\n",
      "09-07-2025  01:31             8,192 example.db\n",
      "20-08-2023  19:21    <DIR>          Favorites\n",
      "06-03-2025  01:14                98 generated_cv.txt\n",
      "15-07-2025  14:34    <DIR>          gradle\n",
      "15-07-2025  14:34             1,255 gradle.properties\n",
      "15-07-2025  14:34             5,766 gradlew\n",
      "15-07-2025  14:34             2,763 gradlew.bat\n",
      "20-08-2023  19:21    <DIR>          Links\n",
      "15-07-2025  14:34               449 local.properties\n",
      "20-08-2023  19:21    <DIR>          Music\n",
      "22-07-2025  14:18    <DIR>          MyApplication\n",
      "22-07-2025  14:22    <DIR>          MyApplication1\n",
      "22-07-2025  14:22    <DIR>          MyApplication2\n",
      "22-07-2025  15:48    <DIR>          MyApplication3\n",
      "09-07-2025  01:29                51 mysql_db_operations.log\n",
      "02-04-2025  00:53                 0 node\n",
      "19-06-2025  10:55    <DIR>          OneDrive\n",
      "20-08-2023  19:21    <DIR>          Saved Games\n",
      "22-08-2023  01:39    <DIR>          Searches\n",
      "15-07-2025  15:37               557 settings.gradle.kts\n",
      "17-07-2025  21:42               440 test_calculator.py\n",
      "17-07-2025  21:27               250 test_logging.py\n",
      "17-07-2025  21:37               291 test_math.py\n",
      "09-07-2025  15:40             1,706 TypeAnnotatedUtility.ipynb\n",
      "23-10-2024  22:28           379,764 Untitled.ipynb\n",
      "23-10-2024  22:29           246,750 Untitled1.ipynb\n",
      "19-06-2025  23:10               617 Untitled2.ipynb\n",
      "09-07-2025  15:56            18,233 Untitled3.ipynb\n",
      "09-07-2025  01:34             4,592 Untitled4.ipynb\n",
      "09-07-2025  15:42             2,386 Untitled5.ipynb\n",
      "22-07-2025  23:01            25,546 Untitled6.ipynb\n",
      "17-07-2025  21:09                72 Untitled7.ipynb\n",
      "21-07-2024  23:37    <DIR>          Videos\n",
      "17-07-2025  21:42    <DIR>          __pycache__\n",
      "              32 File(s)      1,109,653 bytes\n",
      "              39 Dir(s)  834,388,848,640 bytes free\n"
     ]
    }
   ],
   "source": [
    "\n",
    "!dir\n"
   ]
  },
  {
   "cell_type": "code",
   "execution_count": 50,
   "id": "a121a973-df29-4c3b-8be5-bc6e05d9c0d5",
   "metadata": {},
   "outputs": [
    {
     "ename": "SyntaxError",
     "evalue": "invalid syntax (1774866148.py, line 1)",
     "output_type": "error",
     "traceback": [
      "\u001b[1;36m  Cell \u001b[1;32mIn[50], line 1\u001b[1;36m\u001b[0m\n\u001b[1;33m    Volume in drive C is OS\u001b[0m\n\u001b[1;37m                    ^\u001b[0m\n\u001b[1;31mSyntaxError\u001b[0m\u001b[1;31m:\u001b[0m invalid syntax\n"
     ]
    }
   ],
   "source": [
    " Volume in drive C is OS\n",
    " Directory of C:\\Users\\smkmu\n",
    "\n",
    "calculator.py\n",
    "test_calculator.py\n",
    "other_files...\n"
   ]
  },
  {
   "cell_type": "code",
   "execution_count": 51,
   "id": "becaf317-b150-4d1b-91e3-16013c53339e",
   "metadata": {},
   "outputs": [
    {
     "name": "stdout",
     "output_type": "stream",
     "text": [
      "Writing calculator.py\n"
     ]
    }
   ],
   "source": [
    "%%writefile calculator.py\n",
    "\n",
    "def add(a, b):\n",
    "    return a + b\n",
    "\n",
    "def subtract(a, b):\n",
    "    return a - b\n",
    "\n",
    "def multiply(a, b):\n",
    "    return a * b\n",
    "\n",
    "def divide(a, b):\n",
    "    if b == 0:\n",
    "        raise ZeroDivisionError(\"Cannot divide by zero\")\n",
    "    return a / b\n"
   ]
  },
  {
   "cell_type": "code",
   "execution_count": 52,
   "id": "84b9db60-ba76-42fd-8950-4d9d8a72280c",
   "metadata": {},
   "outputs": [
    {
     "name": "stdout",
     "output_type": "stream",
     "text": [
      "\u001b[1m============================= test session starts =============================\u001b[0m\n",
      "platform win32 -- Python 3.11.7, pytest-7.4.0, pluggy-1.0.0\n",
      "rootdir: C:\\Users\\smkmu\n",
      "plugins: anyio-4.2.0\n",
      "collected 5 items\n",
      "\n",
      "test_calculator.py \u001b[32m.\u001b[0m\u001b[32m.\u001b[0m\u001b[32m.\u001b[0m\u001b[32m.\u001b[0m\u001b[32m.\u001b[0m\u001b[32m                                                 [100%]\u001b[0m\n",
      "\n",
      "\u001b[32m============================== \u001b[32m\u001b[1m5 passed\u001b[0m\u001b[32m in 0.01s\u001b[0m\u001b[32m ==============================\u001b[0m\n"
     ]
    }
   ],
   "source": [
    "!pytest test_calculator.py\n"
   ]
  },
  {
   "cell_type": "code",
   "execution_count": 54,
   "id": "4cf2c1af-8eb3-47ec-b6f1-de51d9b0c62a",
   "metadata": {},
   "outputs": [
    {
     "ename": "SyntaxError",
     "evalue": "invalid syntax (3265268010.py, line 1)",
     "output_type": "error",
     "traceback": [
      "\u001b[1;36m  Cell \u001b[1;32mIn[54], line 1\u001b[1;36m\u001b[0m\n\u001b[1;33m    pip install black nbqa\u001b[0m\n\u001b[1;37m        ^\u001b[0m\n\u001b[1;31mSyntaxError\u001b[0m\u001b[1;31m:\u001b[0m invalid syntax\n"
     ]
    }
   ],
   "source": [
    "pip install black nbqa\n",
    "!nbqa black your_notebook.ipynb\n"
   ]
  },
  {
   "cell_type": "code",
   "execution_count": 56,
   "id": "b565debf-d4b2-4e6e-b5cc-4b628865710b",
   "metadata": {},
   "outputs": [],
   "source": [
    "def test_is_even():\n",
    "    assert is_even(4) == True\n",
    "    assert is_even(5) == False\n",
    "\n"
   ]
  },
  {
   "cell_type": "code",
   "execution_count": 57,
   "id": "fc3badf2-d48d-4578-92dc-24e06331df9b",
   "metadata": {},
   "outputs": [],
   "source": [
    "def is_even(n):\n",
    "    return n % 2 == 0\n"
   ]
  },
  {
   "cell_type": "code",
   "execution_count": 61,
   "id": "12f62c26-430b-485d-8fc2-491a87d0ba91",
   "metadata": {},
   "outputs": [
    {
     "data": {
      "text/plain": [
       "True"
      ]
     },
     "execution_count": 61,
     "metadata": {},
     "output_type": "execute_result"
    }
   ],
   "source": [
    "test_is_even()   # ✅ Runs test\n",
    "is_even(8)       # ✅ Use in real code\n"
   ]
  },
  {
   "cell_type": "code",
   "execution_count": 67,
   "id": "6e6e897a-0e82-4732-8bb6-4bf78a662e31",
   "metadata": {},
   "outputs": [
    {
     "name": "stderr",
     "output_type": "stream",
     "text": [
      "INFO:root:Result: 8.0\n"
     ]
    }
   ],
   "source": [
    "# calculator_cli.py\n",
    "\n",
    "import argparse\n",
    "import logging\n",
    "import sys\n",
    "from calculator import add, subtract, multiply, divide\n",
    "\n",
    "logging.basicConfig(level=logging.INFO, format='%(levelname)s:%(message)s')\n",
    "\n",
    "def main(custom_args=None):\n",
    "    parser = argparse.ArgumentParser(description=\"Simple Calculator CLI\")\n",
    "    parser.add_argument(\"operation\", choices=[\"add\", \"sub\", \"mul\", \"div\"])\n",
    "    parser.add_argument(\"a\", type=float, help=\"First number\")\n",
    "    parser.add_argument(\"b\", type=float, help=\"Second number\")\n",
    "    \n",
    "    if custom_args is not None:\n",
    "        args = parser.parse_args(custom_args)   # For Jupyter\n",
    "    else:\n",
    "        args = parser.parse_args()              # For terminal\n",
    "\n",
    "    try:\n",
    "        if args.operation == \"add\":\n",
    "            result = add(args.a, args.b)\n",
    "        elif args.operation == \"sub\":\n",
    "            result = subtract(args.a, args.b)\n",
    "        elif args.operation == \"mul\":\n",
    "            result = multiply(args.a, args.b)\n",
    "        elif args.operation == \"div\":\n",
    "            result = divide(args.a, args.b)\n",
    "\n",
    "        logging.info(f\"Result: {result}\")\n",
    "    except Exception as e:\n",
    "        logging.error(f\"An error occurred: {e}\")\n",
    "\n",
    "if __name__ == \"__main__\":\n",
    "    main([\"add\", \"5\", \"3\"])\n",
    "\n"
   ]
  }
 ],
 "metadata": {
  "kernelspec": {
   "display_name": "Python 3 (ipykernel)",
   "language": "python",
   "name": "python3"
  },
  "language_info": {
   "codemirror_mode": {
    "name": "ipython",
    "version": 3
   },
   "file_extension": ".py",
   "mimetype": "text/x-python",
   "name": "python",
   "nbconvert_exporter": "python",
   "pygments_lexer": "ipython3",
   "version": "3.11.7"
  }
 },
 "nbformat": 4,
 "nbformat_minor": 5
}
