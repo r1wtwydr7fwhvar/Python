{
 "cells": [
  {
   "cell_type": "code",
   "execution_count": 1,
   "id": "2d6fcf80-eba2-4dba-8f9a-191a1639eb2b",
   "metadata": {},
   "outputs": [
    {
     "name": "stdout",
     "output_type": "stream",
     "text": [
      "Requirement already satisfied: mysql-connector-python in c:\\users\\smkmu\\anaconda3\\lib\\site-packages (9.3.0)\n",
      "Note: you may need to restart the kernel to use updated packages.\n"
     ]
    }
   ],
   "source": [
    "pip install mysql-connector-python\n"
   ]
  },
  {
   "cell_type": "code",
   "execution_count": 1,
   "id": "67a489ad-9d3d-4233-8c6f-7befb891bf14",
   "metadata": {},
   "outputs": [],
   "source": [
    "import logging\n",
    "import sqlite3\n",
    "from contextlib import contextmanager\n",
    "\n",
    "# --- Logging Context Manager ---\n",
    "@contextmanager\n",
    "def log_context(log_file: str):\n",
    "    logging.basicConfig(filename=log_file, level=logging.INFO, format='%(asctime)s - %(levelname)s - %(message)s')\n",
    "    logger = logging.getLogger()\n",
    "    logger.info(\"Logging started.\")\n",
    "    try:\n",
    "        yield logger\n",
    "    finally:\n",
    "        logger.info(\"Logging ended.\")\n",
    "        logging.shutdown()\n",
    "\n",
    "# --- Main code using the logger and SQLite ---\n",
    "def main():\n",
    "    with log_context(\"db_operations.log\") as logger:\n",
    "        try:\n",
    "            # Connect to SQLite (or create the DB if it doesn't exist)\n",
    "            conn = sqlite3.connect(\"example.db\")\n",
    "            cursor = conn.cursor()\n",
    "            logger.info(\"Connected to the database.\")\n",
    "\n",
    "            # Create a table\n",
    "            cursor.execute(\"\"\"\n",
    "                CREATE TABLE IF NOT EXISTS users (\n",
    "                    id INTEGER PRIMARY KEY,\n",
    "                    name TEXT NOT NULL,\n",
    "                    age INTEGER\n",
    "                )\n",
    "            \"\"\")\n",
    "            logger.info(\"Table 'users' created or already exists.\")\n",
    "\n",
    "            # Insert data\n",
    "            users = [(\"Alice\", 30), (\"Bob\", 25), (\"Charlie\", 35)]\n",
    "            cursor.executemany(\"INSERT INTO users (name, age) VALUES (?, ?)\", users)\n",
    "            logger.info(f\"{len(users)} users inserted into the database.\")\n",
    "\n",
    "            # Fetch data\n",
    "            cursor.execute(\"SELECT * FROM users\")\n",
    "            rows = cursor.fetchall()\n",
    "            for row in rows:\n",
    "                logger.info(f\"Fetched row: {row}\")\n",
    "\n",
    "            # Commit and close\n",
    "            conn.commit()\n",
    "            logger.info(\"Changes committed.\")\n",
    "\n",
    "        except Exception as e:\n",
    "            logger.error(f\"An error occurred: {e}\")\n",
    "        finally:\n",
    "            if conn:\n",
    "                conn.close()\n",
    "                logger.info(\"Database connection closed.\")\n",
    "\n",
    "if __name__ == \"__main__\":\n",
    "    main()\n"
   ]
  },
  {
   "cell_type": "code",
   "execution_count": null,
   "id": "016c7447-0ea4-4531-8243-d922ab411e46",
   "metadata": {},
   "outputs": [],
   "source": []
  }
 ],
 "metadata": {
  "kernelspec": {
   "display_name": "Python 3 (ipykernel)",
   "language": "python",
   "name": "python3"
  },
  "language_info": {
   "codemirror_mode": {
    "name": "ipython",
    "version": 3
   },
   "file_extension": ".py",
   "mimetype": "text/x-python",
   "name": "python",
   "nbconvert_exporter": "python",
   "pygments_lexer": "ipython3",
   "version": "3.11.7"
  }
 },
 "nbformat": 4,
 "nbformat_minor": 5
}
